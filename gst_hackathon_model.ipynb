{
 "cells": [
  {
   "cell_type": "code",
   "execution_count": 1,
   "metadata": {},
   "outputs": [],
   "source": [
    "%matplotlib inline\n",
    "\n",
    "import numpy as np\n",
    "import pandas as pd\n",
    "import matplotlib.pyplot as plt \n",
    "from pylab import rcParams\n",
    "import os\n",
    "\n",
    "\n",
    "train_x = pd.read_csv(r\"D:\\github\\DataScience\\GST_Hackathon\\resources\\train\\X_Train_Data_Input.csv\")\n",
    "train_y = pd.read_csv(r\"D:\\github\\DataScience\\GST_Hackathon\\resources\\train\\Y_Train_Data_Target.csv\")\n"
   ]
  },
  {
   "cell_type": "markdown",
   "metadata": {},
   "source": [
    "## join dataset for analysis"
   ]
  },
  {
   "cell_type": "code",
   "execution_count": 2,
   "metadata": {},
   "outputs": [],
   "source": [
    "df_train = pd.merge(train_x,train_y,on=\"ID\")"
   ]
  },
  {
   "cell_type": "code",
   "execution_count": 3,
   "metadata": {},
   "outputs": [],
   "source": [
    "#dropping the ID column\n",
    "df_train_transformed=df_train.drop('ID', axis=1)\n",
    "\n",
    "# dropping redundant columns \n",
    "df_train_transformed=df_train_transformed.drop(['Column3','Column10','Column11','Column12'], axis=1)\n"
   ]
  },
  {
   "cell_type": "markdown",
   "metadata": {},
   "source": [
    "# Columns  to be considered in the model \n",
    "['Column0', 'Column1', 'Column2', 'Column4', 'Column5', 'Column6',\n",
    "       'Column7', 'Column8', 'Column9', 'Column13', 'Column14', 'Column15',\n",
    "       'Column16', 'Column17', 'Column18', 'Column19', 'Column20', 'Column21',\n",
    "       'target']"
   ]
  },
  {
   "cell_type": "markdown",
   "metadata": {},
   "source": [
    "# Train Data Preprocessing"
   ]
  },
  {
   "cell_type": "markdown",
   "metadata": {},
   "source": [
    "### Prep - Column0\n",
    "The data consists of real numbers, but there are some missing values. To address this, the strategy is to replace the missing values with zero. This approach is based on the assumption that when no data is available, it can reasonably be interpreted as zero or null."
   ]
  },
  {
   "cell_type": "code",
   "execution_count": 4,
   "metadata": {},
   "outputs": [],
   "source": [
    "df_train_transformed['Column0'] =  df_train_transformed['Column0'].fillna(0)"
   ]
  },
  {
   "cell_type": "markdown",
   "metadata": {},
   "source": [
    "### Prep - Column4\n",
    "This column contains missing values and, as noted, its values are highly correlated with those in column3. The strategy will be to replace the missing values with the median of the column\n"
   ]
  },
  {
   "cell_type": "code",
   "execution_count": 5,
   "metadata": {},
   "outputs": [],
   "source": [
    "col4_median = df_train_transformed['Column4'].median()\n",
    "df_train_transformed['Column4'] =  df_train_transformed['Column4'].fillna(col4_median)"
   ]
  },
  {
   "cell_type": "markdown",
   "metadata": {},
   "source": [
    "### Prep - Column5\n",
    "This column contains missing values and exhibits skewness. Transforming skewed data is crucial for enhancing the performance of statistical models and ensuring that normality assumptions are satisfied. Data cleaning will be necessary for the model, especially since a significant amount of data is missing. Given that this column consists of real numbers, we can replace the missing values with zero. Additionally, since the data is skewed and includes negative values, the Yeo-Johnson transformation can be applied."
   ]
  },
  {
   "cell_type": "code",
   "execution_count": 6,
   "metadata": {},
   "outputs": [],
   "source": [
    "from sklearn.preprocessing import PowerTransformer\n",
    "# missing value transformation \n",
    "df_train_transformed['Column5'] =  df_train_transformed['Column5'].fillna(0)\n",
    "\n",
    "pt = PowerTransformer(method='yeo-johnson')\n",
    "df_train_transformed['Column5'] = pt.fit_transform(df_train_transformed[['Column5']])"
   ]
  },
  {
   "cell_type": "markdown",
   "metadata": {},
   "source": [
    "### Prep - Column6\n",
    "This column has missing values. The data consists of real numbers, but there are some missing values. To address this, the strategy is to replace the missing values with zero. This approach is based on the assumption that when no data is available, it can reasonably be interpreted as zero or null."
   ]
  },
  {
   "cell_type": "code",
   "execution_count": 7,
   "metadata": {},
   "outputs": [],
   "source": [
    "# missing value transformation \n",
    "df_train_transformed['Column6'] =  df_train_transformed['Column6'].fillna(0)"
   ]
  },
  {
   "cell_type": "markdown",
   "metadata": {},
   "source": [
    "### Prep - Column7\n",
    "This column exhibits skewness. Transforming skewed data is crucial for enhancing the performance of statistical models and ensuring that normality assumptions are satisfied. Data cleaning will be necessary for the model, especially since a significant amount of data is missing. Given that this column consists of real numbers, we can replace the missing values with zero. Additionally, since the data is skewed and includes negative values, the Yeo-Johnson transformation can be applied."
   ]
  },
  {
   "cell_type": "code",
   "execution_count": 8,
   "metadata": {},
   "outputs": [],
   "source": [
    "df_train_transformed['Column7'] = pt.fit_transform(df_train_transformed[['Column7']])"
   ]
  },
  {
   "cell_type": "markdown",
   "metadata": {},
   "source": [
    "### Prep - Column8\n",
    "This column contains missing values and exhibits skewness. Transforming skewed data is crucial for enhancing the performance of statistical models and ensuring that normality assumptions are satisfied. Data cleaning will be necessary for the model, especially since a significant amount of data is missing. Given that this column consists of real numbers, we can replace the missing values with zero. Additionally, since the data is skewed and includes negative values, the Yeo-Johnson transformation can be applied."
   ]
  },
  {
   "cell_type": "code",
   "execution_count": 9,
   "metadata": {},
   "outputs": [],
   "source": [
    "# missing value transformation \n",
    "df_train_transformed['Column8'] =  df_train_transformed['Column8'].fillna(0)\n",
    "# transform for skweness\n",
    "df_train_transformed['Column8'] = pt.fit_transform(df_train_transformed[['Column8']])"
   ]
  },
  {
   "cell_type": "markdown",
   "metadata": {},
   "source": [
    "### Prep - Column9\n",
    "This column contains missing values and exhibits skewness. Transforming skewed data is crucial for enhancing the performance of statistical models and ensuring that normality assumptions are satisfied. Data cleaning will be necessary for the model, especially since a significant amount of data is missing. Given that this column consists of real numbers, we can replace the missing values with zero. Additionally, since the data is skewed and includes negative values, the Yeo-Johnson transformation can be applied."
   ]
  },
  {
   "cell_type": "code",
   "execution_count": 10,
   "metadata": {},
   "outputs": [],
   "source": [
    "# missing value transformation \n",
    "df_train_transformed['Column9'] =  df_train_transformed['Column9'].fillna(0)\n",
    "# transform for skweness\n",
    "df_train_transformed['Column9'] = pt.fit_transform(df_train_transformed[['Column9']])"
   ]
  },
  {
   "cell_type": "markdown",
   "metadata": {},
   "source": [
    "### Prep - Column14\n",
    "This column contains missing values and exhibits skewness. Transforming skewed data is crucial for enhancing the performance of statistical models and ensuring that normality assumptions are satisfied. Data cleaning will be necessary for the model, especially since a significant amount of data is missing. Given that this column consists of real numbers, we can replace the missing values with zero. Additionally, since the data is skewed and includes negative values, the Yeo-Johnson transformation can be applied."
   ]
  },
  {
   "cell_type": "code",
   "execution_count": 11,
   "metadata": {},
   "outputs": [],
   "source": [
    "# missing value transformation \n",
    "df_train_transformed['Column14'] =  df_train_transformed['Column14'].fillna(0)\n",
    "# transform for skweness\n",
    "df_train_transformed['Column14'] = pt.fit_transform(df_train_transformed[['Column14']])"
   ]
  },
  {
   "cell_type": "markdown",
   "metadata": {},
   "source": [
    "### Prep - Column15\n",
    "This column contains missing values and exhibits skewness. Transforming skewed data is crucial for enhancing the performance of statistical models and ensuring that normality assumptions are satisfied. Data cleaning will be necessary for the model, especially since a significant amount of data is missing. Given that this column consists of real numbers, we can replace the missing values with zero. Additionally, since the data is skewed and includes negative values, the Yeo-Johnson transformation can be applied."
   ]
  },
  {
   "cell_type": "code",
   "execution_count": 12,
   "metadata": {},
   "outputs": [],
   "source": [
    "# missing value transformation \n",
    "df_train_transformed['Column15'] =  df_train_transformed['Column15'].fillna(0)\n",
    "# transform for skweness\n",
    "df_train_transformed['Column15'] = pt.fit_transform(df_train_transformed[['Column15']])"
   ]
  },
  {
   "cell_type": "markdown",
   "metadata": {},
   "source": [
    "### Prep - Column17\n",
    "This column exhibits skewness. Transforming skewed data is crucial for enhancing the performance of statistical models and ensuring that normality assumptions are satisfied. Data cleaning will be necessary for the model, especially since a significant amount of data is missing. Given that this column consists of real numbers, we can replace the missing values with zero. Additionally, since the data is skewed and includes negative values, the Yeo-Johnson transformation can be applied."
   ]
  },
  {
   "cell_type": "code",
   "execution_count": 13,
   "metadata": {},
   "outputs": [],
   "source": [
    "# transform for skweness\n",
    "df_train_transformed['Column17'] = pt.fit_transform(df_train_transformed[['Column17']])"
   ]
  },
  {
   "cell_type": "markdown",
   "metadata": {},
   "source": [
    "# Model Preparation - Logistic Regression"
   ]
  },
  {
   "cell_type": "code",
   "execution_count": 14,
   "metadata": {},
   "outputs": [],
   "source": [
    "import seaborn as sns\n",
    "import sklearn #\n",
    "from sklearn.linear_model import LogisticRegression\n",
    "from sklearn.model_selection import train_test_split \n",
    "from sklearn.preprocessing import StandardScaler \n",
    "from sklearn.metrics import roc_auc_score ,  confusion_matrix ,RocCurveDisplay\n",
    "from sklearn.model_selection import KFold"
   ]
  },
  {
   "cell_type": "code",
   "execution_count": 15,
   "metadata": {},
   "outputs": [],
   "source": [
    "x_train = df_train_transformed.loc[:,df_train_transformed.columns !='target']\n",
    "y_train = df_train_transformed[['target']]"
   ]
  },
  {
   "cell_type": "markdown",
   "metadata": {},
   "source": [
    "# Model Training - Logistic Regression "
   ]
  },
  {
   "cell_type": "code",
   "execution_count": 16,
   "metadata": {},
   "outputs": [
    {
     "name": "stderr",
     "output_type": "stream",
     "text": [
      "c:\\python\\Lib\\site-packages\\sklearn\\utils\\validation.py:1339: DataConversionWarning: A column-vector y was passed when a 1d array was expected. Please change the shape of y to (n_samples, ), for example using ravel().\n",
      "  y = column_or_1d(y, warn=True)\n"
     ]
    }
   ],
   "source": [
    "sk_model = LogisticRegression(random_state=None, max_iter=400,\n",
    "solver='newton-cg').fit(x_train, y_train)"
   ]
  },
  {
   "cell_type": "markdown",
   "metadata": {},
   "source": [
    "### Model Evaluation  -  Training data"
   ]
  },
  {
   "cell_type": "code",
   "execution_count": 17,
   "metadata": {},
   "outputs": [
    {
     "name": "stdout",
     "output_type": "stream",
     "text": [
      "0.9688995367663823\n"
     ]
    }
   ],
   "source": [
    "eval_acc = sk_model.score(x_train,y_train)\n",
    "print(eval_acc)"
   ]
  },
  {
   "cell_type": "code",
   "execution_count": 22,
   "metadata": {},
   "outputs": [
    {
     "name": "stdout",
     "output_type": "stream",
     "text": [
      "Auc Score: 92.892%\n",
      "Eval Accuracy: 96.890%\n"
     ]
    }
   ],
   "source": [
    "preds = sk_model.predict(x_train)\n",
    "auc_score = roc_auc_score(y_train,preds)\n",
    "print(f\"Auc Score: {auc_score:.3%}\")\n",
    "print(f\"Eval Accuracy: {eval_acc:.3%}\")"
   ]
  },
  {
   "cell_type": "code",
   "execution_count": 23,
   "metadata": {},
   "outputs": [
    {
     "data": {
      "text/plain": [
       "<sklearn.metrics._plot.roc_curve.RocCurveDisplay at 0x24087df3c90>"
      ]
     },
     "execution_count": 23,
     "metadata": {},
     "output_type": "execute_result"
    },
    {
     "data": {
      "image/png": "[encoded data removed]",
      "text/plain": [
       "<Figure size 640x480 with 1 Axes>"
      ]
     },
     "metadata": {},
     "output_type": "display_data"
    }
   ],
   "source": [
    "RocCurveDisplay.from_estimator(sk_model,x_train,y_train)"
   ]
  },
  {
   "cell_type": "markdown",
   "metadata": {},
   "source": [
    "# Model performance \n",
    "Model  is highly accurate on training dataset with AUC as .99 . That means the model is able to classify and predict target variable value as 0 and 1 with high accuracy. Since the data is highly imbalanced and no domain knowledge is available , this could be a case of over-fitting. \n"
   ]
  },
  {
   "cell_type": "markdown",
   "metadata": {},
   "source": [
    "### Model testing on Test Dataset"
   ]
  },
  {
   "cell_type": "code",
   "execution_count": 20,
   "metadata": {},
   "outputs": [],
   "source": [
    "# load test data set and transform the dataset\n",
    "test_x = pd.read_csv(r\"D:\\github\\DataScience\\GST_Hackathon\\resources\\test\\X_Test_Data_Input.csv\")\n",
    "test_y = pd.read_csv(r\"D:\\github\\DataScience\\GST_Hackathon\\resources\\test\\Y_Test_Data_Target.csv\")"
   ]
  },
  {
   "cell_type": "code",
   "execution_count": 21,
   "metadata": {},
   "outputs": [],
   "source": [
    "# Test data preparation\n",
    "df_test = pd.merge(test_x,test_y,on=\"ID\")\n",
    "\n",
    "#dropping the ID column\n",
    "df_test_transformed=df_test.drop('ID', axis=1)\n",
    "\n",
    "# drop redundant columns\n",
    "df_test_transformed=df_test_transformed.drop(['Column3','Column10','Column11','Column12'], axis=1)\n",
    "\n",
    "# data cleaning \n",
    "df_test_transformed['Column0'] =  df_test_transformed['Column0'].fillna(0)\n",
    "\n",
    "col4_median_test = df_test_transformed['Column4'].median()\n",
    "df_test_transformed['Column4'] =  df_test_transformed['Column4'].fillna(col4_median_test)\n",
    "\n",
    "# from sklearn.preprocessing import PowerTransformer\n",
    "# missing value transformation \n",
    "df_test_transformed['Column5'] =  df_test_transformed['Column5'].fillna(0)\n",
    "\n",
    "#pt = PowerTransformer(method='yeo-johnson')\n",
    "df_test_transformed['Column5'] = pt.fit_transform(df_test_transformed[['Column5']])\n",
    "\n",
    "# missing value transformation \n",
    "df_test_transformed['Column6'] =  df_test_transformed['Column6'].fillna(0)\n",
    "\n",
    "df_test_transformed['Column7'] = pt.fit_transform(df_test_transformed[['Column7']])\n",
    "\n",
    "# missing value transformation \n",
    "df_test_transformed['Column8'] =  df_test_transformed['Column8'].fillna(0)\n",
    "# transform for skweness\n",
    "df_test_transformed['Column8'] = pt.fit_transform(df_test_transformed[['Column8']])\n",
    "\n",
    "# missing value transformation \n",
    "df_test_transformed['Column9'] =  df_test_transformed['Column9'].fillna(0)\n",
    "# transform for skweness\n",
    "df_test_transformed['Column9'] = pt.fit_transform(df_test_transformed[['Column9']])\n",
    "\n",
    "# missing value transformation \n",
    "df_test_transformed['Column14'] =  df_test_transformed['Column14'].fillna(0)\n",
    "# transform for skweness\n",
    "df_test_transformed['Column14'] = pt.fit_transform(df_test_transformed[['Column14']])\n",
    "\n",
    "# missing value transformation \n",
    "df_test_transformed['Column15'] =  df_test_transformed['Column15'].fillna(0)\n",
    "# transform for skweness\n",
    "df_test_transformed['Column15'] = pt.fit_transform(df_test_transformed[['Column15']])\n",
    "\n",
    "# transform for skweness\n",
    "df_test_transformed['Column17'] = pt.fit_transform(df_test_transformed[['Column17']])"
   ]
  },
  {
   "cell_type": "markdown",
   "metadata": {},
   "source": [
    "### Prediction on Test Data"
   ]
  },
  {
   "cell_type": "code",
   "execution_count": null,
   "metadata": {},
   "outputs": [],
   "source": [
    "x_test = df_test_transformed.loc[:,df_test_transformed.columns !='target']\n",
    "y_test = df_test_transformed[['target']]"
   ]
  },
  {
   "cell_type": "markdown",
   "metadata": {},
   "source": [
    "### Model Evaluation  -  Test data"
   ]
  },
  {
   "cell_type": "markdown",
   "metadata": {},
   "source": [
    "eval_acc_test = sk_model.score(x_test,y_test)\n",
    "print(eval_acc_test)"
   ]
  },
  {
   "cell_type": "code",
   "execution_count": null,
   "metadata": {},
   "outputs": [],
   "source": [
    "preds_test = sk_model.predict(x_test)\n",
    "auc_score_test = roc_auc_score(y_test,preds_test)\n",
    "print(f\"Auc Score: {auc_score_test:.3%}\")\n",
    "print(f\"Eval Accuracy: {eval_acc_test:.3%}\")"
   ]
  },
  {
   "cell_type": "code",
   "execution_count": null,
   "metadata": {},
   "outputs": [],
   "source": [
    "RocCurveDisplay.from_estimator(sk_model,x_test,y_test)"
   ]
  }
 ],
 "metadata": {
  "kernelspec": {
   "display_name": "Python 3",
   "language": "python",
   "name": "python3"
  },
  "language_info": {
   "codemirror_mode": {
    "name": "ipython",
    "version": 3
   },
   "file_extension": ".py",
   "mimetype": "text/x-python",
   "name": "python",
   "nbconvert_exporter": "python",
   "pygments_lexer": "ipython3",
   "version": "3.11.9"
  }
 },
 "nbformat": 4,
 "nbformat_minor": 2
}
